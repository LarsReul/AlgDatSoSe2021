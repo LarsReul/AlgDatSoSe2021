{
 "cells": [
  {
   "cell_type": "markdown",
   "source": [
    "#### Author: Martin Simon (2021)\n",
    "#### Frankfurt University of Applied Sciences, FB2, Computer Science\n",
    "#### For educational purposes only and not necessarily very pythonic\n",
    "## Program code accompanying the inverted classroom session on 04/19/2021\n",
    "## For execution of complete code click on \"Kernel\", then on \"Restart & Run All\"\n",
    "## At the end of your experiments click on \"File\", then on \"Close and Halt\""
   ],
   "metadata": {
    "collapsed": false
   }
  },
  {
   "cell_type": "code",
   "execution_count": 1,
   "outputs": [],
   "source": [
    "import random\n",
    "import statistics"
   ],
   "metadata": {
    "collapsed": false,
    "pycharm": {
     "name": "#%%\n"
    }
   }
  },
  {
   "cell_type": "code",
   "execution_count": 2,
   "outputs": [],
   "source": [
    "def decision_dice(p1, p2, p3):\n",
    "    outcomes = [1, 2, 3]\n",
    "    probabilities = [p1, p2, p3]\n",
    "    outcome = random.choices(outcomes, probabilities)\n",
    "    # your code goes here\n",
    "    # your code goes here\n",
    "    d = {1:'yes', 2:'no', 3: 'again'}\n",
    "    return [d[x] for x in outcome]\n"
   ],
   "metadata": {
    "collapsed": false,
    "pycharm": {
     "name": "#%%\n"
    }
   }
  },
  {
   "cell_type": "code",
   "execution_count": 3,
   "outputs": [],
   "source": [
    "# set dice parameters\n",
    "p_yes = 1/6\n",
    "p_no = 1/6\n",
    "p_again = 1-p_yes-p_no"
   ],
   "metadata": {
    "collapsed": false,
    "pycharm": {
     "name": "#%%\n"
    }
   }
  },
  {
   "cell_type": "code",
   "execution_count": 4,
   "outputs": [
    {
     "name": "stdout",
     "output_type": "stream",
     "text": [
      "Decision no made via  ['no']  in  1 step(s)\n"
     ]
    }
   ],
   "source": [
    "# use decision_dice to make binary decision\n",
    "dec = decision_dice(p_yes, p_no, p_again)\n",
    "print(\"Decision\",dec[-1] , \"made via \", dec, \" in \", len(dec), \"step(s)\" )"
   ],
   "metadata": {
    "collapsed": false,
    "pycharm": {
     "name": "#%%\n"
    }
   }
  },
  {
   "cell_type": "code",
   "execution_count": 5,
   "outputs": [
    {
     "name": "stdout",
     "output_type": "stream",
     "text": [
      "1\n"
     ]
    }
   ],
   "source": [
    "# approximate expected number of steps to come up with a decision\n",
    "n_experiments = 100000\n",
    "n_steps = [len(decision_dice(p_yes, p_no, p_again)) for k in range(1,n_experiments)]\n",
    "print(statistics.mean(n_steps))"
   ],
   "metadata": {
    "collapsed": false,
    "pycharm": {
     "name": "#%%\n"
    }
   }
  }
 ],
 "metadata": {
  "kernelspec": {
   "display_name": "Python 3",
   "language": "python",
   "name": "python3"
  },
  "language_info": {
   "codemirror_mode": {
    "name": "ipython",
    "version": 2
   },
   "file_extension": ".py",
   "mimetype": "text/x-python",
   "name": "python",
   "nbconvert_exporter": "python",
   "pygments_lexer": "ipython2",
   "version": "2.7.6"
  }
 },
 "nbformat": 4,
 "nbformat_minor": 0
}